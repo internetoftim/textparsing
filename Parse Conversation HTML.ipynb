{
 "cells": [
  {
   "cell_type": "markdown",
   "metadata": {},
   "source": [
    "## HTML Parsing\n"
   ]
  },
  {
   "cell_type": "code",
   "execution_count": 26,
   "metadata": {
    "collapsed": true
   },
   "outputs": [],
   "source": [
    "import os\n",
    "import bs4\n",
    "from bs4 import BeautifulSoup as soup\n",
    "import pandas as pd\n"
   ]
  },
  {
   "cell_type": "markdown",
   "metadata": {},
   "source": [
    "## Print List of Files"
   ]
  },
  {
   "cell_type": "code",
   "execution_count": 27,
   "metadata": {},
   "outputs": [
    {
     "name": "stdout",
     "output_type": "stream",
     "text": [
      "1.html\n",
      "10.html\n",
      "100.html\n",
      "1000.html\n",
      "10000.html\n"
     ]
    }
   ],
   "source": [
    "collection = \"html\"\n",
    "\n",
    "n_test=5\n",
    "file_list = os.listdir(collection)\n",
    "# for i in range(len(file_list)):\n",
    "for i in range(n_test):\n",
    "    print(file_list[i])"
   ]
  },
  {
   "cell_type": "markdown",
   "metadata": {
    "collapsed": true
   },
   "source": [
    "## Sample Test File"
   ]
  },
  {
   "cell_type": "code",
   "execution_count": 28,
   "metadata": {},
   "outputs": [
    {
     "name": "stdout",
     "output_type": "stream",
     "text": [
      "1.html\n"
     ]
    }
   ],
   "source": [
    "test_file = file_list[0]\n",
    "print(test_file)"
   ]
  },
  {
   "cell_type": "markdown",
   "metadata": {},
   "source": [
    "## Load HTML File"
   ]
  },
  {
   "cell_type": "code",
   "execution_count": 30,
   "metadata": {},
   "outputs": [
    {
     "name": "stdout",
     "output_type": "stream",
     "text": [
      "\n",
      "<div class=\"content_part hid\" id=\"article_participants\">\n",
      "<p>\n",
      "                  Start Time: 08:00\n",
      "                </p>\n",
      "<p>\n",
      "                  End Time: 08:25\n",
      "                </p>\n",
      "<p>\n",
      "                  Actions Semiconductor Co., Ltd. (NASDAQ:\n",
      "                  <a href=\"http://seekingalpha.com/symbol/acts\" title=\"Actions Semiconductor Co., Ltd.\">\n",
      "                    ACTS\n",
      "                  </a>\n",
      "                  )\n",
      "                </p>\n",
      "<p>\n",
      "                  Q1 2015 Earnings Conference Call\n",
      "                </p>\n",
      "<p>\n",
      "                  May 12, 2015, 08:00 AM ET\n",
      "                </p>\n",
      "<p>\n",
      "<strong>\n",
      "                    Executives\n",
      "                  </strong>\n",
      "</p>\n",
      "<p>\n",
      "                  Zhenyu Zhou - CEO\n",
      "                </p>\n",
      "<p>\n",
      "                  Nigel Liu - CFO\n",
      "                </p>\n",
      "<p>\n",
      "                  Elaine Ketchmere - IR\n",
      "                </p>\n",
      "</div>\n",
      "<div class=\"content_part hid\" id=\"article_content\">\n",
      "<p>\n",
      "<strong>\n",
      "                    Operator\n",
      "                  </strong>\n",
      "</p>\n",
      "<p>\n",
      "                  Good day, and welcome to the Actions Semiconductor Q1 2015 Earnings Conference Call. Today's call is being recorded.\n",
      "                </p>\n",
      "<p>\n",
      "                  At this time, I would like to turn the conference over to Elaine Ketchmere. Please go ahead, ma'am.\n",
      "                </p>\n",
      "<p>\n",
      "<strong>\n",
      "                    Elaine Ketchmere\n",
      "                  </strong>\n",
      "</p>\n",
      "<p>\n",
      "                  Thank you, operator. Good morning, ladies and gentlemen, and good evening to those of you joining us from Asia. I'd like to welcome all of you to Actions Semiconductor’s earnings conference call for the first quarter of 2015. This call is being broadcast live over the web and can be accessed on the Investor Relations section of Actions Web site www.actions-semi.com for 90 days.\n",
      "                </p>\n",
      "<p>\n",
      "                  On the call today are Dr. Zhenyu Zhou, Chief Executive Officer; and Nigel Liu, Chief Financial Officer. Before the market opened in the U.S. today, Actions issued a press release discussing the results for its first quarter ended March 31, 2015. The press release is accessible online on the company's Web site or you can call Compass Investor Relations at 310-528-3031 and we will email you a copy.\n",
      "                </p>\n",
      "<p>\n",
      "                  We would like to remind you that during the course of this conference call Actions management team may make projections or other forward-looking statements regarding future events or the financial performance of the company. We wish to caution you that such statements are simply estimates and actual results or event may differ materially. We refer you to the documents that Actions files from time to time with the SEC, specifically the company's most recently filed Forms F-1, 20-F and 6-K. These documents identify important factors that could cause actual results to differ materially from those contained in our projections or forward-looking statements.\n",
      "                </p>\n",
      "<p>\n",
      "                  Now, I'd like to turn the call over to Dr. Zhenyu Zhou.\n",
      "                </p>\n",
      "<p>\n",
      "<strong>\n",
      "                    Zhenyu Zhou\n",
      "                  </strong>\n",
      "</p>\n",
      "<p>\n",
      "                  Thank you for participating in Actions earning conference call. We appreciate your continued interest in the company. I will provide an overview of our performance in the first quarter of 2015, along with some operational updates. Later on the call, Nigel Liu, CFO, will discuss financial results for the quarter.\n",
      "                </p>\n",
      "<p>\n",
      "                  Quarter summary; revenue for the quarter was $10.5 million, coming in at the midrange of our expectations and down from $11.3 million in the first quarter of 2014. Overall, demand was slow primarily due to the Chinese New Year holiday, which caused a seasonal slowdown in production by consumer electronics manufacturers in China in the first quarter of the year as expected, and softer demand for tablets as the worldwide tablet market experienced a year-over-year decline in shipments for the second consecutive quarter.\n",
      "                </p>\n",
      "<p>\n",
      "                  Our multimedia business exceeded expectations with strong demand for our Bluetooth 4.0 solutions for speakers and boomboxes and an abatement in the supply shortage from our wafer foundry. Overall, it was expected that the first quarter would be the slowest quarter of the year.\n",
      "                </p>\n",
      "<p>\n",
      "                  Gross margin was 23.5%, up from a negative 19.2% in the fourth quarter of 2014 and 23.1% in the first quarter of 2014. In the second half of 2014, we wrote down certain lower margin, slower moving inventory in accordance with our accounting policies. We were able to sell a portion of this inventory and recovered some of these expenses in the first quarter of 2015.\n",
      "                </p>\n",
      "<p>\n",
      "                  Although gross margin improved, it continues to be impacted by the fierce competition in the tablet market, which accounts for the largest portion of our application processor shipments today.\n",
      "                </p>\n",
      "<p>\n",
      "                  Net loss attributable to Actions was $5.0 million or $0.085 per basic and diluted ADS compared to net loss attributable to Actions of $5.5 million or $0.08 per basic and diluted share in the first quarter of 2014.\n",
      "                </p>\n",
      "<p>\n",
      "                  We entered 2015 armed with a portfolio of leading edge new products that are currently in the early adoption and designing stage. We expect these new products to support revenue growth of 20% to 25% and good margin improvement in the year ahead. Moreover, because we incurred the expense related to these products in 2014, we expect R&amp;D expense in 2015 to be below 2014’s level. \n",
      "                </p>\n",
      "<p>\n",
      "                  Now I will provide some details about our multimedia business and application processor business, cloud connected device. Multimedia business; our multimedia business exceeded expectations in the first quarter of 2015 led by our Bluetooth 4.0 solutions for speakers and boomboxes.\n",
      "                </p>\n",
      "<p>\n",
      "                  The supply shortage of wafers from our foundry has abated and we do not foresee any meaningful impact in the coming quarters. We prepared delivery samples of our new single chip Bluetooth 4.0 SoC for boomboxes, speakers, headphones and related products, the ATS282X during the first quarter and are seeing the steep lift in volume. We expect that ATS282X along with our other Bluetooth 4.0 SoC for soundbars, LED [indiscernible] and audio systems to be the driving force in our multimedia business in 2015.\n",
      "                </p>\n",
      "<p>\n",
      "                  The Bluetooth audio and the music market provides enormous growth potential. From recent research reports from IHS forecast Bluetooth-enabled consumer electronics shipment will grow at a five-year CAGR of 20% reaching 1.4 billion units in 2018 and that more than half of all consumer electronics devices shipped in 2018 will be Bluetooth enabled.\n",
      "                </p>\n",
      "<p>\n",
      "                  We believe our investment in the Bluetooth audio and music market will position us to capitalize in a much bigger and emerging market opportunities for the Internet of Things, IoT that is smart hardware.\n",
      "                </p>\n",
      "<p>\n",
      "                  Application processor business; during the first quarter of 2015, shipments from application processor business came in slightly below our expectations and declined from the first quarter of 2014, primarily due to the seasonality related to the Chinese New Year holiday and softer demand in the worldwide tablet market.\n",
      "                </p>\n",
      "<p>\n",
      "                  Tablet SoC, which account for the largest proportion of application processor shipments today, continue facing a difficult competitive environment. In addition, demand for tablets has slowed considerably than demand for WiFi-only tablets is shrinking as a result of competitive pressure from tablets with cellular connectivity and large screen smartphones.\n",
      "                </p>\n",
      "<p>\n",
      "                  On the other hand, OTT set-top box solutions are making an increasing contribution to our revenue mix at more favorable selling prices, and our products gained additional design wins with brand named customers in the quarter. We believe China’s OTT set-top box market has strong growth potential and we expect to have additional shares in the year ahead. However, this market is still evolving and it may face policy changes and restrictions from the PRC government that could limit the upside.\n",
      "                </p>\n",
      "<p>\n",
      "                  Over the last year, we have focused on expanding our application processor business beyond tablets to focus on other new and profitable growth market segments. Our product portfolio now addresses OTT set-top boxes and other clouds connected devices, including but not limited to Netbooks, advertising machines, POS machines, and smart micro projectors.\n",
      "                </p>\n",
      "<p>\n",
      "                  Most of our new chipsets based on 28-nanometer process technology announced last year and early this year are gaining good traction. Our 32-bit quad-core SoC solution targets the low to net tier of the application processor market and offers a very attractive performance and compelling good [ph] cost.\n",
      "                </p>\n",
      "<p>\n",
      "                  We began shipping small volumes in the first quarter to the tablet, OTT and other cloud connected device market segments and we expect the shipments to ramp quickly starting in the second quarter. We believe the new 28-nanometer and 32-bit based quad-core SoC will be a large revenue driver in our application processor business in 2015.\n",
      "                </p>\n",
      "<p>\n",
      "                  Our high performance 64-bit SoC with various market application is currently in the design win space. The 64-bit based application processor is an ultra high performance quad-core solution offering an exceptional user experience, low power consumption and a diversity in applications.\n",
      "                </p>\n",
      "<p>\n",
      "                  The 64-bit era for smartphones, tablets and other cloud connected devices has started. And the 64-bit application processors are quickly becoming the industry standard. We expect the 64-bit application processor to quickly seize the meaningful design wins and to make a meaningful contribution to revenue as well as gross profits in the second quarter of 2015.\n",
      "                </p>\n",
      "<p>\n",
      "                  Now also supporting the open-source intelligent hardware community for Android and Linux, we’ve launched a 32-bit S500 and 64-bit S900 open-source SoC and reference design platforms. We are the founding member of Linaro’s 96Boards initiatives where our 64-bit S900 SoC and ActDuino S900 reference design platform offer developers a very high performance and diversified developed platform as well as the best technology access for the latest 64-bit ARM architecture.\n",
      "                </p>\n",
      "<p>\n",
      "                  We believe our new offering will generate strong interest from developers for all types of cloud connected products from branded tablets and OTT set-top boxes to smartphones. We believe our compelling portfolio of leading edge products for tablet, OTT set-top boxes and other cloud connected devices will deliver higher selling prices and more favorable margins. We believe our overall application processor business will return to a healthy track by mid-2015.\n",
      "                </p>\n",
      "<p>\n",
      "                  Business update summary; we entered the year armed with a portfolio of leading edge products targeting a wide range of markets that we expect to support revenue growth of 20% to 25% and good margin improvement in 2015. Our Bluetooth 4.0 solution led by our single chip solutions for boomboxes, speakers and the related products will be the driving force in our multimedia business this year.\n",
      "                </p>\n",
      "<p>\n",
      "                  Although we expect the tepid markets to remain challenging, our application processor business should return to a healthy track by mid-2015 supported by our new 32-bit and 64-bit solutions. We expect a steady growth from the OTT set-top box markets and a strong profit contribution from differentiated new products for other cloud connected devices based on our open platform SoC and reference design platforms. As revenue and margins improve in 2015, we will focus on cost control with the goal of reducing research and development expenses from 2014 levels.\n",
      "                </p>\n",
      "<p>\n",
      "                  Before I turn the call over to Nigel to discuss our financial results, I’d like to briefly comment on a few items. The first matter concerns an ongoing dialogue with an investor who reports to be our largest shareholder. This shareholder has indicated through an open letter to our Board of Directors a number of objections regarding our corporate governance along with his intention of taking legal action against the company and his efforts to gain control of the company.\n",
      "                </p>\n",
      "<p>\n",
      "                  On Friday, May 8, the company responded to the various allegations made in the open letter in a press release, which is available on our Web site and filed with the SEC on Form 6-K. Earlier today, we held our annual general meeting of shareholders whereby our shareholders voted in favor of all measures on the ballot including the reelection of Mr. David Lee and Mr. Casper Lin as directors. We thank all of our shareholders for their continued support of the company during the past year.\n",
      "                </p>\n",
      "<p>\n",
      "                  Now I’d like to turn the call over to Nigel Liu, our CFO, who will review our financial results for the first quarter.\n",
      "                </p>\n",
      "<p>\n",
      "<strong>\n",
      "                    Nigel Liu\n",
      "                  </strong>\n",
      "</p>\n",
      "<p>\n",
      "                  Thank you, Dr. Zhou. As a reminder, our financials are reported in accordance with U.S. GAAP. For the first quarter ended March 31, 2015, we recorded revenue of $10.5 million compared to $13.9 million in the first quarter of 2014.\n",
      "                </p>\n",
      "<p>\n",
      "                  Our gross margin for the first quarter was 23.5% compared to negative 19.2% for the prior quarter. As Dr. Zhou mentioned, gross margin in the first quarter of 2015 benefited from sales of certain lower-margin, slower moving inventories which were written-down in the second half of 2014 with a net impact of 0.8 million.\n",
      "                </p>\n",
      "<p>\n",
      "                  For the first quarter, total stock-based compensation expenses were $5,000 compared to $29,000 in the fourth quarter of 2014. R&amp;D expenses were $6.8 million for the first quarter compared to $7.1 million in the fourth quarter of 2014. \n",
      "                </p>\n",
      "<p>\n",
      "                  G&amp;A expenses were $2 million in the first quarter compared to $2.7 million in the fourth quarter of 2014. The decrease was primarily due to normal seasonal fluctuations. Sales and marketing expenses were $0.6 million in the first quarter compared to $0.6 million in the fourth quarter of 2014.\n",
      "                </p>\n",
      "<p>\n",
      "                  Impairment on intangible assets was nil in the first quarter compared to 0.5 million in the fourth quarter of 2014 [indiscernible] reorganization of our corporate structure. Operating loss was $13 million for the first quarter compared to an operating loss of $13.3 million for the prior quarter.\n",
      "                </p>\n",
      "<p>\n",
      "                  Net income for the first quarter was 15,000 compared to net loss of 1.1 million in the fourth quarter of 2014. The loss in the prior quarter was primarily due to a decline in the RMB related to the U.S. dollar in the fourth quarter of 2014. Interest income was $1.6 million for the first quarter compared to 1.7 million in the fourth quarter of 2014.\n",
      "                </p>\n",
      "<p>\n",
      "                  Last, deferred tax was $5.5 million for the first quarter compared to a loss before tax of $12.8 million in the fourth quarter of 2014. Income tax credit was $0.5 million for the first quarter, similar to an income tax credit of $0.2 million in the fourth quarter of 2014.\n",
      "                </p>\n",
      "<p>\n",
      "                  Net loss attributable to Actions Semiconductor on a U.S. GAAP basis for the first quarter of 2015 was $5 million or $0.085 per basic and diluted ADS. This compares to a net loss of $12.2 million or $0.206 per basic and diluted ADS for the fourth quarter of 2014.\n",
      "                </p>\n",
      "<p>\n",
      "                  Now moving to the balance sheet, cash and cash equivalents together with the time deposits, trading securities and both current and non-current marketable securities totaled $152.4 million as of March 31, 2015 compared to $158.2 million as of December 31, 2014. Of the $152.4 million total, $119.3 million was in cash with a short-term interest period investments together with time deposits that was generally issued by large domestic bank in China for terms no more than three months and can be redeemed at any time.\n",
      "                </p>\n",
      "<p>\n",
      "                  $43.1 million was in trading securities and the marketable securities, which were principle of guarantees of pledged investment with high interest rate and the minimal returns of three months, less marketable securities while many issues manage or guaranteed by top ranking state owned financial institutions in China.\n",
      "                </p>\n",
      "<p>\n",
      "                  Our short-term borrowing totaled $45 million at the end of the first quarter unchanged from December 31, 2014. Accounts receivable was $3.4 million at the end of the first quarter of 2015 compared to $4.5 million at the end of 2014.\n",
      "                </p>\n",
      "<p>\n",
      "                  Accounts receivables includes amount due from a related target and equity method investees. Inventory was $15 million at the end of the first quarter compared to $14 million at the end of the prior quarter.\n",
      "                </p>\n",
      "<p>\n",
      "                  We continue to buy back shares, spending approximately $0.6 million during the first quarter. As of March 31, 2015, the company had invest a total of $18 million in the program, representing the equivalent of 24.3 million ADS, included 25 million or the equivalent of 10 million ADS as part of our Dutch auction tender offer in September 2014.\n",
      "                </p>\n",
      "<p>\n",
      "                  Now, turning to our outlook. Based on current market trends, we expect revenue in the second quarter of 2015 to be in the range of $13 million to $14 million. We expect our newly launched products to gain rating in the upcoming quarter and accelerate in the second half of 2015.\n",
      "                </p>\n",
      "<p>\n",
      "                  Now, I will turn back the call to Dr. Zhou.\n",
      "                </p>\n",
      "<p>\n",
      "<strong>\n",
      "                    Zhenyu Zhou\n",
      "                  </strong>\n",
      "</p>\n",
      "<p>\n",
      "                  Thank you for joining us on today’s earnings call. As disclosed in our earnings press release issued earlier today, we will not be conducting a question-and-answer session on today’s call. However, we continue to welcome written questions and comments from our shareholders.\n",
      "                </p>\n",
      "<p>\n",
      "                  We will also be providing more detailed information about our financial performance and future prospects in our quarterly earnings press releases and our prepared remarks in the future. We appreciate your interest in and continuous support of Actions. Thank you.\n",
      "                </p>\n",
      "</div>\n",
      "<div class=\"content_part hid\" id=\"article_qanda\">\n",
      "<p>\n",
      "<strong>\n",
      "                    Question-and-Answer Session\n",
      "                  </strong>\n",
      "</p>\n",
      "<p>\n",
      "<strong>\n",
      "<span class=\"question\">\n",
      "</span>\n",
      "</strong>\n",
      "</p>\n",
      "<p>\n",
      "<strong>\n",
      "<span class=\"answer\">\n",
      "</span>\n",
      "</strong>\n",
      "</p>\n",
      "<p>\n",
      "<strong>\n",
      "                    Operator\n",
      "                  </strong>\n",
      "</p>\n",
      "<p>\n",
      "                  That does conclude today’s conference call. Thank you all for your participation. You may now disconnect.\n",
      "                </p>\n",
      "</div>\n",
      "<div class=\"content_part hid\" id=\"article_disclaimer\">\n",
      "<p>\n",
      "<strong>\n",
      "                    Copyright policy: \n",
      "                  </strong>\n",
      "                  All transcripts on this site are the copyright of Seeking Alpha. However, we view them as an important resource for bloggers and journalists, and are excited to contribute to the democratization of financial information on the Internet. (Until now investors have had to pay thousands of dollars in subscription fees for transcripts.) So our reproduction policy is as follows: \n",
      "                  <strong>\n",
      "                    You may quote up to 400 words of any transcript on the condition that you attribute the transcript to Seeking Alpha and either link to the original transcript or to www.SeekingAlpha.com. All other use is prohibited.\n",
      "                  </strong>\n",
      "</p>\n",
      "<p>\n",
      "                  THE INFORMATION CONTAINED HERE IS A TEXTUAL REPRESENTATION OF THE APPLICABLE COMPANY'S CONFERENCE CALL, CONFERENCE PRESENTATION OR OTHER AUDIO PRESENTATION, AND WHILE EFFORTS ARE MADE TO PROVIDE AN ACCURATE TRANSCRIPTION, THERE MAY BE MATERIAL ERRORS, OMISSIONS, OR INACCURACIES IN THE REPORTING OF THE SUBSTANCE OF THE AUDIO PRESENTATIONS. IN NO WAY DOES SEEKING ALPHA ASSUME ANY RESPONSIBILITY FOR ANY INVESTMENT OR OTHER DECISIONS MADE BASED UPON THE INFORMATION PROVIDED ON THIS WEB SITE OR IN ANY TRANSCRIPT. USERS ARE ADVISED TO REVIEW THE APPLICABLE COMPANY'S AUDIO PRESENTATION ITSELF AND THE APPLICABLE COMPANY'S SEC FILINGS BEFORE MAKING ANY INVESTMENT OR OTHER DECISIONS.\n",
      "                </p>\n",
      "<p>\n",
      "                  If you have any additional questions about our online transcripts, please contact us at: \n",
      "                  <a href=\"mailto:transcripts@seekingalpha.com\" rel=\"nofollow\">\n",
      "<u>\n",
      "                      transcripts@seekingalpha.com\n",
      "                    </u>\n",
      "</a>\n",
      "                  . Thank you!\n",
      "                </p>\n",
      "</div>\n",
      "<div id=\"article_slice\">\n",
      "</div>\n",
      "<div class=\"cleaner\">\n",
      "</div>\n",
      "<div id=\"article_source\">\n",
      "                Source: \n",
      "                <a href=\"/article/3175086-actions-semiconductors-acts-ceo-zhenyu-zhou-on-q1-2015-results-earnings-call-transcript?source=cc\">\n",
      "                  Actions Semiconductor's (ACTS) CEO Zhenyu Zhou on Q1 2015 Results - Earnings Call Transcript\n",
      "                </a>\n",
      "</div>\n",
      "\n"
     ]
    }
   ],
   "source": [
    "with open(collection + '/' + test_file) as inf:\n",
    "    txt = inf.read()\n",
    "    soup_out = soup(txt, \"html.parser\")\n",
    "print(soup_out)"
   ]
  },
  {
   "cell_type": "code",
   "execution_count": 40,
   "metadata": {},
   "outputs": [],
   "source": [
    "# for h4 in soup_out.findAll('strong'):\n",
    "#     print(h4.text)\n",
    "temp = soup_out.find_all('span',{'class':'question'})\n",
    "# for element in temp:\n",
    "#     out =(element.attrs[\"content\"])  \n",
    "#     print(out)\n",
    "# print(temp)\n"
   ]
  },
  {
   "cell_type": "code",
   "execution_count": 42,
   "metadata": {},
   "outputs": [],
   "source": [
    "out_temp = temp[0]"
   ]
  },
  {
   "cell_type": "code",
   "execution_count": 43,
   "metadata": {},
   "outputs": [
    {
     "data": {
      "text/plain": [
       "[u'\\n']"
      ]
     },
     "execution_count": 43,
     "metadata": {},
     "output_type": "execute_result"
    }
   ],
   "source": [
    "out_temp.contents"
   ]
  },
  {
   "cell_type": "markdown",
   "metadata": {},
   "source": [
    "Extract Firm"
   ]
  },
  {
   "cell_type": "code",
   "execution_count": 75,
   "metadata": {},
   "outputs": [
    {
     "name": "stdout",
     "output_type": "stream",
     "text": [
      "Actions Semiconductor Co., Ltd.\n"
     ]
    }
   ],
   "source": [
    "temp = soup_out.find(id='article_participants')\n",
    "for element in temp.findAll('a'):\n",
    "    if element.get('title') != None :\n",
    "        print(element.get('title'))\n"
   ]
  },
  {
   "cell_type": "code",
   "execution_count": 64,
   "metadata": {
    "collapsed": true
   },
   "outputs": [],
   "source": [
    "def extract_firm(input_soup):\n",
    "    temp = input_soup.find_all('a')\n",
    "    for element in temp:\n",
    "        if element.get('title') != None :\n",
    "            return(element.get('title'))    "
   ]
  },
  {
   "cell_type": "code",
   "execution_count": 61,
   "metadata": {},
   "outputs": [
    {
     "data": {
      "text/plain": [
       "[<a href=\"http://seekingalpha.com/symbol/acts\" title=\"Actions Semiconductor Co., Ltd.\">\\n                    ACTS\\n                  </a>,\n",
       " <a href=\"mailto:transcripts@seekingalpha.com\" rel=\"nofollow\">\\n<u>\\n                      transcripts@seekingalpha.com\\n                    </u>\\n</a>,\n",
       " <a href=\"/article/3175086-actions-semiconductors-acts-ceo-zhenyu-zhou-on-q1-2015-results-earnings-call-transcript?source=cc\">\\n                  Actions Semiconductor's (ACTS) CEO Zhenyu Zhou on Q1 2015 Results - Earnings Call Transcript\\n                </a>]"
      ]
     },
     "execution_count": 61,
     "metadata": {},
     "output_type": "execute_result"
    }
   ],
   "source": [
    "temp"
   ]
  },
  {
   "cell_type": "code",
   "execution_count": 67,
   "metadata": {},
   "outputs": [
    {
     "name": "stdout",
     "output_type": "stream",
     "text": [
      "<div class=\"content_part hid\" id=\"article_participants\">\n",
      "<p>\n",
      "                  Start Time: 08:00\n",
      "                </p>\n",
      "<p>\n",
      "                  End Time: 08:25\n",
      "                </p>\n",
      "<p>\n",
      "                  Actions Semiconductor Co., Ltd. (NASDAQ:\n",
      "                  <a href=\"http://seekingalpha.com/symbol/acts\" title=\"Actions Semiconductor Co., Ltd.\">\n",
      "                    ACTS\n",
      "                  </a>\n",
      "                  )\n",
      "                </p>\n",
      "<p>\n",
      "                  Q1 2015 Earnings Conference Call\n",
      "                </p>\n",
      "<p>\n",
      "                  May 12, 2015, 08:00 AM ET\n",
      "                </p>\n",
      "<p>\n",
      "<strong>\n",
      "                    Executives\n",
      "                  </strong>\n",
      "</p>\n",
      "<p>\n",
      "                  Zhenyu Zhou - CEO\n",
      "                </p>\n",
      "<p>\n",
      "                  Nigel Liu - CFO\n",
      "                </p>\n",
      "<p>\n",
      "                  Elaine Ketchmere - IR\n",
      "                </p>\n",
      "</div>\n"
     ]
    }
   ],
   "source": [
    "temp = soup_out.find(id='article_participants')\n",
    "# for element in temp:\n",
    "# #     print(element)\n",
    "#     if element.get('title') != None :\n",
    "#         print(element.get('title'))\n",
    "print(temp)        "
   ]
  },
  {
   "cell_type": "code",
   "execution_count": null,
   "metadata": {
    "collapsed": true
   },
   "outputs": [],
   "source": []
  }
 ],
 "metadata": {
  "kernelspec": {
   "display_name": "Python 2",
   "language": "python",
   "name": "python2"
  },
  "language_info": {
   "codemirror_mode": {
    "name": "ipython",
    "version": 2
   },
   "file_extension": ".py",
   "mimetype": "text/x-python",
   "name": "python",
   "nbconvert_exporter": "python",
   "pygments_lexer": "ipython2",
   "version": "2.7.12"
  },
  "widgets": {
   "state": {},
   "version": "1.1.2"
  }
 },
 "nbformat": 4,
 "nbformat_minor": 1
}
