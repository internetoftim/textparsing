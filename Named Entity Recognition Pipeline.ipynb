{
 "cells": [
  {
   "cell_type": "code",
   "execution_count": 10,
   "metadata": {
    "collapsed": true
   },
   "outputs": [],
   "source": [
    "import os\n",
    "import re\n",
    "import pandas as pd\n",
    "import spacy\n",
    "import en_core_web_sm"
   ]
  },
  {
   "cell_type": "code",
   "execution_count": 3,
   "metadata": {
    "collapsed": true
   },
   "outputs": [],
   "source": []
  },
  {
   "cell_type": "code",
   "execution_count": 5,
   "metadata": {
    "collapsed": true
   },
   "outputs": [],
   "source": [
    "def extract_chunks(input_text):\n",
    "    doc = nlp(input_text)\n",
    "    spans = list(doc.ents)  #+ list(doc.noun_chunks)\n",
    "    out_list = []\n",
    "    for span in spans:\n",
    "        span.merge()\n",
    "        out_list.append(span)\n",
    "    return out_list\n"
   ]
  },
  {
   "cell_type": "code",
   "execution_count": 6,
   "metadata": {
    "collapsed": true
   },
   "outputs": [],
   "source": [
    "def extract_name_pair(name, input_text):\n",
    "    out_list = []\n",
    "    if not pd.isnull(input_text):\n",
    "        s_out = extract_chunks(input_text)    \n",
    "        doc = nlp(input_text)\n",
    "        spans = list(doc.ents)  #+ list(doc.noun_chunks)\n",
    "\n",
    "        for item in spans:\n",
    "            item = re.sub(pattern='[^a-zA-Z0-9 -]',repl='',string=item.string)            \n",
    "            if (re.search(item,name,flags=re.IGNORECASE)):\n",
    "                out_list.append(item)\n",
    "\n",
    "    return out_list\n",
    "#     else:\n",
    "#         return None"
   ]
  },
  {
   "cell_type": "code",
   "execution_count": 7,
   "metadata": {
    "collapsed": true
   },
   "outputs": [],
   "source": [
    "def basic_wc(input_text):\n",
    "    \n",
    "    if (input_text and not pd.isnull(input_text) and not None):\n",
    "        decoded_txt=input_text.decode('utf-8')\n",
    "        tokens = word_tokenize(decoded_txt)\n",
    "        tokens = [tok for tok in tokens if (not re.search('^[^a-zA-Z]*$',tok))]\n",
    "        return len(tokens)\n",
    "    else:\n",
    "        return 0    "
   ]
  },
  {
   "cell_type": "code",
   "execution_count": 12,
   "metadata": {},
   "outputs": [],
   "source": [
    "nlp = en_core_web_sm.load()\n",
    "out_analyst= pd.DataFrame.from_csv('analyst_out_foringestion.csv',encoding='utf-8')\n",
    "out_analyst['analyst_exec_raw'] = out_analyst.apply(lambda x: extract_name_pair(x['exec_name'],x['analyst_qanda']), axis=1)\n",
    "out_analyst['exec_name_count'] = out_analyst.apply(lambda x: \\\n",
    "                                         len(x['analyst_exec_raw']), axis=1)\n",
    "out_analyst[['file','quarter_year','executive_firm','ticker','analyst',\\\n",
    "'analyst_name','analyst_firm','executive','analyst_exec_raw','exec_name_count']]\\\n",
    ".to_csv('analyst_out_withcount.csv',sep=',', encoding = 'utf-8')\n",
    "# out_executives.select({[}'file','quarter_yer'])"
   ]
  },
  {
   "cell_type": "code",
   "execution_count": null,
   "metadata": {
    "collapsed": true
   },
   "outputs": [],
   "source": []
  }
 ],
 "metadata": {
  "kernelspec": {
   "display_name": "Python 3",
   "language": "python",
   "name": "python3"
  },
  "language_info": {
   "codemirror_mode": {
    "name": "ipython",
    "version": 3
   },
   "file_extension": ".py",
   "mimetype": "text/x-python",
   "name": "python",
   "nbconvert_exporter": "python",
   "pygments_lexer": "ipython3",
   "version": "3.5.2"
  },
  "widgets": {
   "state": {},
   "version": "1.1.2"
  }
 },
 "nbformat": 4,
 "nbformat_minor": 2
}
