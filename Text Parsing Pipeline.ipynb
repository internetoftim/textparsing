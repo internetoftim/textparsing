{
 "cells": [
  {
   "cell_type": "code",
   "execution_count": 1,
   "metadata": {
    "collapsed": true
   },
   "outputs": [],
   "source": [
    "import os\n",
    "import bs4\n",
    "from bs4 import BeautifulSoup as soup\n",
    "import pandas as pd\n",
    "# import spacy\n",
    "import re\n",
    "import nltk\n",
    "from nltk.tokenize import word_tokenize"
   ]
  },
  {
   "cell_type": "code",
   "execution_count": 2,
   "metadata": {
    "collapsed": true
   },
   "outputs": [],
   "source": [
    "def extract_html(input_html):\n",
    "    with open(input_html) as inf:\n",
    "        txt = inf.read()\n",
    "    soup_out = soup(txt, \"html.parser\")\n",
    "    return soup_out"
   ]
  },
  {
   "cell_type": "code",
   "execution_count": 3,
   "metadata": {
    "collapsed": true
   },
   "outputs": [],
   "source": [
    "def extract_firm(input_soup):\n",
    "    temp = input_soup.find(id='article_participants')\n",
    "    for element in temp.findAll('a'):\n",
    "        if element.get('title') != None :\n",
    "            return(str(element.get('title')))   \n",
    "    return None"
   ]
  },
  {
   "cell_type": "code",
   "execution_count": 4,
   "metadata": {
    "collapsed": true
   },
   "outputs": [],
   "source": [
    "def extract_ticker(input_soup):\n",
    "    temp = input_soup.find(id='article_participants')\n",
    "    for element in temp.findAll('a'):\n",
    "        if element.get('title') != None :\n",
    "            return(str(element.contents[0].strip()))   \n",
    "    return None"
   ]
  },
  {
   "cell_type": "code",
   "execution_count": 42,
   "metadata": {},
   "outputs": [],
   "source": [
    "def extract_time(input_soup):\n",
    "    temp = input_soup.find(id='article_participants')\n",
    "    for element in temp.findAll('p'):\n",
    "        if (pd.notnull(element.text) and element.text!=''):\n",
    "            if( re.search('call',element.contents[0],flags=re.IGNORECASE)):\n",
    "                call_title = element.contents[0].split()\n",
    "                return str(call_title[0]),str(call_title[1])\n",
    "    return None,None"
   ]
  },
  {
   "cell_type": "code",
   "execution_count": 6,
   "metadata": {
    "collapsed": true
   },
   "outputs": [],
   "source": [
    "def test_analyst(input_soup):\n",
    "    temp = input_soup.find(id='article_participants')\n",
    "    for element in temp.findAll('strong'):\n",
    "        if(re.search('analyst',element.contents[0],flags=re.IGNORECASE)):\n",
    "            return(True)\n",
    "    return(None)\n"
   ]
  },
  {
   "cell_type": "code",
   "execution_count": 7,
   "metadata": {
    "collapsed": true
   },
   "outputs": [],
   "source": [
    "def extract_analysts(input_soup):\n",
    "    temp = input_soup.find(id='article_participants')\n",
    "    test_string = []\n",
    "    print_flag = False\n",
    "    for element in temp.find_all('p'):\n",
    "        if(re.search('analyst',element.text,flags=re.IGNORECASE)):\n",
    "            #print(element.text.strip(),'###')\n",
    "            element = element.find_next()\n",
    "            while  (1):\n",
    "                element = element.find_next()\n",
    "            #print(element.contents[0].strip())\n",
    "            #print(element.text.strip())\n",
    "                if element.find('strong') or \\\n",
    "                element.find('div'):\n",
    "            #print('FOUND')\n",
    "                    break\n",
    "                test_string.append(element.contents[0].strip())    \n",
    "            break\n",
    "    return test_string"
   ]
  },
  {
   "cell_type": "code",
   "execution_count": 8,
   "metadata": {
    "collapsed": true
   },
   "outputs": [],
   "source": [
    "def extract_executives(input_soup):\n",
    "    test_string = []\n",
    "    temp = input_soup.find(id='article_participants')\n",
    "    # print(soup_out)\n",
    "    print_flag = False\n",
    "    for element in temp.find_all('p'):\n",
    "        if(re.search('executive',element.text,flags=re.IGNORECASE)):\n",
    "            #print(element.text.strip(),'###')\n",
    "            element = element.find_next()\n",
    "            while  (1):\n",
    "                element = element.find_next()\n",
    "                # print(element.contents[0])\n",
    "                # print(element.text.strip())\n",
    "                if element.find('strong') or \\\n",
    "                element.find('div'):            \n",
    "                #print('FOUND')\n",
    "                    break\n",
    "                test_string.append(element.text.strip())\n",
    "        \n",
    "            break\n",
    "    return test_string"
   ]
  },
  {
   "cell_type": "code",
   "execution_count": 9,
   "metadata": {
    "collapsed": true
   },
   "outputs": [],
   "source": [
    "def is_analyst_present(analyst_list):\n",
    "    if analyst_list: \n",
    "        return True\n",
    "    else: \n",
    "        return False"
   ]
  },
  {
   "cell_type": "code",
   "execution_count": 10,
   "metadata": {
    "collapsed": true
   },
   "outputs": [],
   "source": [
    "def extract_name (input_string,delim='-'):\n",
    "    if not pd.isnull(input_string):\n",
    "        name_search = re.search('(^[^-]*)-', input_string, re.IGNORECASE)\n",
    "        return name_search.group(1).strip()\n",
    "    else:\n",
    "        return None\n",
    "def extract_title (input_string,delim='-'):\n",
    "    if not pd.isnull(input_string):\n",
    "        title_search = re.search('^[^-]*-(.*)', input_string, re.IGNORECASE)\n",
    "        return title_search.group(1).strip()\n",
    "    else:\n",
    "        return None"
   ]
  },
  {
   "cell_type": "code",
   "execution_count": 11,
   "metadata": {
    "collapsed": true
   },
   "outputs": [],
   "source": [
    "def extract_content(input_soup,current_name):\n",
    "#     current_name = 'Panna Sharma'\n",
    "    if not (pd.isnull(current_name) ):\n",
    "        temp = input_soup.find(id='article_content')\n",
    "        test_string = []\n",
    "        # print(temp)\n",
    "        for element in temp.find_all('strong'):\n",
    "            if (re.search(current_name.strip().lower(),element.text,flags=re.IGNORECASE)):\n",
    "                while  (1):\n",
    "                    element = element.find_next()\n",
    "        #           print(element.text.strip())\n",
    "                    if element.find('strong') or \\\n",
    "                    element.find('div'):\n",
    "                        break\n",
    "                    test_string.append(element.text.strip())    \n",
    "        return test_string\n",
    "    else:\n",
    "        return None"
   ]
  },
  {
   "cell_type": "code",
   "execution_count": 12,
   "metadata": {
    "collapsed": true
   },
   "outputs": [],
   "source": [
    "def extract_qanda(input_soup,current_name):\n",
    "#     current_name = 'Panna Sharma'\n",
    "    if not (pd.isnull(current_name) ):\n",
    "        temp = input_soup.find(id='article_qanda')\n",
    "        test_string = []\n",
    "        # print(temp)\n",
    "        if temp.find_all('span'):\n",
    "            for element in temp.find_all('span'):\n",
    "                if (re.search(current_name.strip().lower(),element.text,flags=re.IGNORECASE)):\n",
    "                    while  (1):\n",
    "                        element = element.find_next()\n",
    "            #           print(element.text.strip())\n",
    "                        if element.find('strong') or \\\n",
    "                        element.find('div') or \\\n",
    "                        element.find('span'):\n",
    "                            break\n",
    "                        test_string.append(element.text.strip())    \n",
    "        else:                \n",
    "            for element in temp.find_all('strong'):\n",
    "                if (re.search(current_name.strip().lower(),element.text,flags=re.IGNORECASE)):\n",
    "                    while  (1):\n",
    "                        element = element.find_next()\n",
    "            #           print(element.text.strip())\n",
    "                        if element.find('strong') or \\\n",
    "                        element.find('div') or \\\n",
    "                        element.find('span'):\n",
    "                            break\n",
    "                        test_string.append(element.text.strip())      \n",
    "            \n",
    "        return test_string\n",
    "    else:\n",
    "        return None"
   ]
  },
  {
   "cell_type": "code",
   "execution_count": 13,
   "metadata": {
    "collapsed": true
   },
   "outputs": [],
   "source": [
    "def basic_wc(input_text):\n",
    "    #     print(input_text)\n",
    "    if (input_text and not pd.isnull(input_text) and not None):\n",
    "        decoded_txt=input_text.decode('utf-8')\n",
    "        tokens = word_tokenize(decoded_txt)\n",
    "        tokens = [tok for tok in tokens if (not re.search('^[^a-zA-Z]*$',tok))]\n",
    "        return len(tokens)\n",
    "    else:\n",
    "        return 0    "
   ]
  },
  {
   "cell_type": "code",
   "execution_count": 24,
   "metadata": {},
   "outputs": [
    {
     "name": "stdout",
     "output_type": "stream",
     "text": [
      ".DS_Store\n",
      "1.html\n",
      "10.html\n",
      "100.html\n",
      "1000.html\n",
      "10000.html\n",
      "10001.html\n",
      "10002.html\n",
      "10003.html\n",
      "10004.html\n",
      "10005.html\n",
      "10006.html\n",
      "10007.html\n",
      "10008.html\n",
      "10009.html\n",
      "1001.html\n",
      "10010.html\n",
      "10011.html\n",
      "10012.html\n",
      "10013.html\n",
      "FILE\tANALYST_Flag\tFIRM\tQuarter\tYear\n"
     ]
    }
   ],
   "source": [
    "collection = \"html\"\n",
    "\n",
    "n_test=20\n",
    "file_list = os.listdir(collection)\n",
    "# for i in range(len(file_list)):\n",
    "for i in range(n_test):\n",
    "    print(file_list[i])\n",
    "    \n",
    "collection = \"html\"\n",
    "\n",
    "n_test=10\n",
    "file_list = os.listdir(collection)\n",
    "out_list =[]\n",
    "# for i in range(len(file_list)):\n",
    "print('FILE\\tANALYST_Flag\\tFIRM\\tQuarter\\tYear') \n",
    "\n",
    "for i in range(n_test):\n",
    "    with open(collection + '/' + file_list[i]) as inf:\n",
    "        if(re.search('html',file_list[i],flags=re.IGNORECASE)):\n",
    "            out_list.append(file_list[i])\n",
    "        \n"
   ]
  },
  {
   "cell_type": "code",
   "execution_count": 43,
   "metadata": {},
   "outputs": [],
   "source": [
    "out_pd = pd.DataFrame(out_list)\n",
    "out_pd.columns=['file']\n",
    "out_pd['text'] = out_pd.apply(lambda x: extract_html('html/'+x['file']), axis=1)\n",
    "out_pd['quarter_year'] = out_pd.apply(lambda x: extract_time(x['text']), axis=1)\n",
    "out_pd['executive_firm'] = out_pd.apply(lambda x: extract_firm(x['text']), axis=1)\n",
    "out_pd['analyst_present'] = out_pd.apply(lambda x: test_analyst(x['text']), axis=1)\n",
    "out_pd['ticker'] = out_pd.apply(lambda x: extract_ticker(x['text']), axis=1)\n",
    "\n",
    "out_pd['analysts'] = out_pd.apply(lambda x: extract_analysts(x['text']), axis=1)\n",
    "out_pd['execs'] = out_pd.apply(lambda x: extract_executives(x['text']), axis=1)\n",
    "\n",
    "s = out_pd.analysts.apply(pd.Series)\\\n",
    "              .stack()\\\n",
    "              .reset_index(level=1, drop=True)\\\n",
    "              .to_frame('analyst')\n",
    "out_analyst = out_pd.join(s)  \n",
    "\n",
    "out_analyst['analyst_name'] = out_analyst.apply(lambda x: extract_name(x['analyst']), axis=1)\n",
    "out_analyst['analyst_firm'] = out_analyst.apply(lambda x: extract_title(x['analyst']), axis=1)\n",
    "\n",
    "\n",
    "out_analyst['analyst_content'] = out_analyst.apply(lambda x: \\\n",
    "                                         extract_content(x['text'],x['analyst_name']), axis=1)\n",
    "\n",
    "out_analyst['analyst_qanda'] = out_analyst.apply(lambda x: \\\n",
    "                                         extract_qanda(x['text'],x['analyst_name']), axis=1)\n",
    "\n",
    "# out_analyst['analyst_qna_count'] = out_analyst.apply(lambda x: \\\n",
    "#                                          basic_wc(x['analyst_qanda']), axis=1)\n",
    "\n",
    "# out_analyst['analyst_content_count'] = out_analyst.apply(lambda x: \\\n",
    "#                                          basic_wc(x['analyst_content']), axis=1)\n",
    "# out_analyst['analyst_total_count'] = out_analyst.analyst_qna_count + out_analyst.analyst_content_count\n",
    "out_analyst=out_analyst.reset_index(level=1, drop=True)\n",
    "# out_analyst\n",
    "s = out_analyst.execs.apply(pd.Series)\\\n",
    "              .stack()\\\n",
    "              .reset_index(level=1, drop=True)\\\n",
    "              .to_frame('executive')\n",
    "out_analyst = out_analyst.join(s)                      \n",
    "\n",
    "out_analyst['exec_name'] = out_analyst.apply(lambda x: extract_name(x['executive']), axis=1)\n",
    "out_analyst['exec_title'] = out_analyst.apply(lambda x: extract_title(x['executive']), axis=1)\n",
    "# out_analyst['exec_name'] = out_analyst.apply(lambda x: extract_name(x['executive']), axis=1)\n",
    "# out_analyst['exec_title'] = out_analyst.apply(lambda x: extract_title(x['executive']), axis=1)\n",
    "# out_analyst = out_analyst.drop_duplicates()\n",
    "\n",
    "# out_analyst"
   ]
  },
  {
   "cell_type": "code",
   "execution_count": 45,
   "metadata": {
    "collapsed": true
   },
   "outputs": [],
   "source": [
    "out_analyst\\\n",
    ".to_csv('analyst_out_foringestion.csv',sep=',', encoding = 'utf-8')\n",
    "# out_executives.select({[}'file','quarter_yer'])"
   ]
  },
  {
   "cell_type": "code",
   "execution_count": 17,
   "metadata": {},
   "outputs": [
    {
     "data": {
      "text/plain": [
       "file               object\n",
       "text               object\n",
       "quarter_year       object\n",
       "executive_firm     object\n",
       "analyst_present    object\n",
       "ticker             object\n",
       "analysts           object\n",
       "execs              object\n",
       "analyst            object\n",
       "analyst_name       object\n",
       "analyst_firm       object\n",
       "analyst_content    object\n",
       "analyst_qanda      object\n",
       "executive          object\n",
       "exec_name          object\n",
       "exec_title         object\n",
       "dtype: object"
      ]
     },
     "execution_count": 17,
     "metadata": {},
     "output_type": "execute_result"
    }
   ],
   "source": [
    "out_analyst.dtypes"
   ]
  },
  {
   "cell_type": "code",
   "execution_count": 23,
   "metadata": {},
   "outputs": [
    {
     "data": {
      "text/html": [
       "<div>\n",
       "<table border=\"1\" class=\"dataframe\">\n",
       "  <thead>\n",
       "    <tr style=\"text-align: right;\">\n",
       "      <th></th>\n",
       "      <th>file</th>\n",
       "      <th>text</th>\n",
       "      <th>quarter_year</th>\n",
       "      <th>executive_firm</th>\n",
       "      <th>analyst_present</th>\n",
       "      <th>ticker</th>\n",
       "      <th>analysts</th>\n",
       "      <th>execs</th>\n",
       "    </tr>\n",
       "  </thead>\n",
       "  <tbody>\n",
       "    <tr>\n",
       "      <th>0</th>\n",
       "      <td>1.html</td>\n",
       "      <td>&lt;div class=\"content_part hid\" id=\"article_par...</td>\n",
       "      <td>(Q1, 2015)</td>\n",
       "      <td>Actions Semiconductor Co., Ltd.</td>\n",
       "      <td>None</td>\n",
       "      <td>ACTS</td>\n",
       "      <td>[]</td>\n",
       "      <td>[Zhenyu Zhou - CEO, Nigel Liu - CFO, Elaine Ke...</td>\n",
       "    </tr>\n",
       "    <tr>\n",
       "      <th>1</th>\n",
       "      <td>10.html</td>\n",
       "      <td>&lt;div class=\"content_part hid\" id=\"article_par...</td>\n",
       "      <td>(Q1, 2015)</td>\n",
       "      <td>Cancer Genetics, Inc.</td>\n",
       "      <td>True</td>\n",
       "      <td>CGIX</td>\n",
       "      <td>[Paul Knight - Janney Montgomery Scott, Ben Ha...</td>\n",
       "      <td>[Brian - IR, Panna Sharma - President and CEO,...</td>\n",
       "    </tr>\n",
       "    <tr>\n",
       "      <th>2</th>\n",
       "      <td>100.html</td>\n",
       "      <td>&lt;div class=\"content_part hid\" id=\"article_par...</td>\n",
       "      <td>(Q1, 2015)</td>\n",
       "      <td>Startek Inc.</td>\n",
       "      <td>True</td>\n",
       "      <td>SRT</td>\n",
       "      <td>[Matt Blazei - Lake Street Capital Markets, Om...</td>\n",
       "      <td>[Chad Carlson - President and CEO, Lisa Weaver...</td>\n",
       "    </tr>\n",
       "    <tr>\n",
       "      <th>3</th>\n",
       "      <td>1000.html</td>\n",
       "      <td>&lt;div class=\"content_part hid\" id=\"article_par...</td>\n",
       "      <td>(Q4, 2015)</td>\n",
       "      <td>Alibaba Group Holding Limited</td>\n",
       "      <td>True</td>\n",
       "      <td>BABA</td>\n",
       "      <td>[Erica Poon Werkun - UBS Investment Bank, Rese...</td>\n",
       "      <td>[Jane Penner - Head of Investor Relations and ...</td>\n",
       "    </tr>\n",
       "    <tr>\n",
       "      <th>4</th>\n",
       "      <td>10000.html</td>\n",
       "      <td>&lt;div class=\"content_part hid\" id=\"article_par...</td>\n",
       "      <td>(Q3, 2014)</td>\n",
       "      <td>Abercrombie &amp; Fitch</td>\n",
       "      <td>True</td>\n",
       "      <td>ANF</td>\n",
       "      <td>[Janet Kloppenburg - JJK Research, Kimberly Gr...</td>\n",
       "      <td>[Brian Logan - VP, IR and Controller, Michael ...</td>\n",
       "    </tr>\n",
       "  </tbody>\n",
       "</table>\n",
       "</div>"
      ],
      "text/plain": [
       "         file                                               text quarter_year  \\\n",
       "0      1.html  \n",
       "<div class=\"content_part hid\" id=\"article_par...   (Q1, 2015)   \n",
       "1     10.html  \n",
       "<div class=\"content_part hid\" id=\"article_par...   (Q1, 2015)   \n",
       "2    100.html  \n",
       "<div class=\"content_part hid\" id=\"article_par...   (Q1, 2015)   \n",
       "3   1000.html  \n",
       "<div class=\"content_part hid\" id=\"article_par...   (Q4, 2015)   \n",
       "4  10000.html  \n",
       "<div class=\"content_part hid\" id=\"article_par...   (Q3, 2014)   \n",
       "\n",
       "                    executive_firm analyst_present ticker  \\\n",
       "0  Actions Semiconductor Co., Ltd.            None   ACTS   \n",
       "1            Cancer Genetics, Inc.            True   CGIX   \n",
       "2                     Startek Inc.            True    SRT   \n",
       "3    Alibaba Group Holding Limited            True   BABA   \n",
       "4              Abercrombie & Fitch            True    ANF   \n",
       "\n",
       "                                            analysts  \\\n",
       "0                                                 []   \n",
       "1  [Paul Knight - Janney Montgomery Scott, Ben Ha...   \n",
       "2  [Matt Blazei - Lake Street Capital Markets, Om...   \n",
       "3  [Erica Poon Werkun - UBS Investment Bank, Rese...   \n",
       "4  [Janet Kloppenburg - JJK Research, Kimberly Gr...   \n",
       "\n",
       "                                               execs  \n",
       "0  [Zhenyu Zhou - CEO, Nigel Liu - CFO, Elaine Ke...  \n",
       "1  [Brian - IR, Panna Sharma - President and CEO,...  \n",
       "2  [Chad Carlson - President and CEO, Lisa Weaver...  \n",
       "3  [Jane Penner - Head of Investor Relations and ...  \n",
       "4  [Brian Logan - VP, IR and Controller, Michael ...  "
      ]
     },
     "execution_count": 23,
     "metadata": {},
     "output_type": "execute_result"
    }
   ],
   "source": [
    "out_pd"
   ]
  },
  {
   "cell_type": "code",
   "execution_count": null,
   "metadata": {
    "collapsed": true
   },
   "outputs": [],
   "source": []
  }
 ],
 "metadata": {
  "kernelspec": {
   "display_name": "Python 2",
   "language": "python",
   "name": "python2"
  },
  "language_info": {
   "codemirror_mode": {
    "name": "ipython",
    "version": 2
   },
   "file_extension": ".py",
   "mimetype": "text/x-python",
   "name": "python",
   "nbconvert_exporter": "python",
   "pygments_lexer": "ipython2",
   "version": "2.7.12"
  },
  "widgets": {
   "state": {},
   "version": "1.1.2"
  }
 },
 "nbformat": 4,
 "nbformat_minor": 2
}
